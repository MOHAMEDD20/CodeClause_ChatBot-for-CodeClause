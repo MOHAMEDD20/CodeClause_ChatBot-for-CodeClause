{
 "cells": [
  {
   "cell_type": "markdown",
   "id": "62458556",
   "metadata": {},
   "source": [
    "# smart chat bot for clodeclause"
   ]
  },
  {
   "cell_type": "code",
   "execution_count": 3,
   "id": "c6399f63",
   "metadata": {},
   "outputs": [
    {
     "name": "stdout",
     "output_type": "stream",
     "text": [
      "Requirement already satisfied: nltk in /home/mohammedessam/anaconda3/lib/python3.9/site-packages (3.6.5)\n",
      "Requirement already satisfied: click in /home/mohammedessam/anaconda3/lib/python3.9/site-packages (from nltk) (8.0.3)\n",
      "Requirement already satisfied: joblib in /home/mohammedessam/anaconda3/lib/python3.9/site-packages (from nltk) (1.1.0)\n",
      "Requirement already satisfied: regex>=2021.8.3 in /home/mohammedessam/anaconda3/lib/python3.9/site-packages (from nltk) (2021.8.3)\n",
      "Requirement already satisfied: tqdm in /home/mohammedessam/anaconda3/lib/python3.9/site-packages (from nltk) (4.62.3)\n",
      "Note: you may need to restart the kernel to use updated packages.\n"
     ]
    }
   ],
   "source": [
    "pip install nltk"
   ]
  },
  {
   "cell_type": "code",
   "execution_count": 2,
   "id": "23579f6a",
   "metadata": {},
   "outputs": [
    {
     "name": "stdout",
     "output_type": "stream",
     "text": [
      "Requirement already satisfied: newspaper3k in /home/mohammedessam/anaconda3/lib/python3.9/site-packages (0.2.8)\n",
      "Requirement already satisfied: feedfinder2>=0.0.4 in /home/mohammedessam/anaconda3/lib/python3.9/site-packages (from newspaper3k) (0.0.4)\n",
      "Requirement already satisfied: requests>=2.10.0 in /home/mohammedessam/anaconda3/lib/python3.9/site-packages (from newspaper3k) (2.26.0)\n",
      "Requirement already satisfied: cssselect>=0.9.2 in /home/mohammedessam/anaconda3/lib/python3.9/site-packages (from newspaper3k) (1.1.0)\n",
      "Requirement already satisfied: nltk>=3.2.1 in /home/mohammedessam/anaconda3/lib/python3.9/site-packages (from newspaper3k) (3.6.5)\n",
      "Requirement already satisfied: python-dateutil>=2.5.3 in /home/mohammedessam/anaconda3/lib/python3.9/site-packages (from newspaper3k) (2.8.2)\n",
      "Requirement already satisfied: PyYAML>=3.11 in /home/mohammedessam/anaconda3/lib/python3.9/site-packages (from newspaper3k) (6.0)\n",
      "Requirement already satisfied: beautifulsoup4>=4.4.1 in /home/mohammedessam/anaconda3/lib/python3.9/site-packages (from newspaper3k) (4.10.0)\n",
      "Requirement already satisfied: tinysegmenter==0.3 in /home/mohammedessam/anaconda3/lib/python3.9/site-packages (from newspaper3k) (0.3)\n",
      "Requirement already satisfied: lxml>=3.6.0 in /home/mohammedessam/anaconda3/lib/python3.9/site-packages (from newspaper3k) (4.6.3)\n",
      "Requirement already satisfied: jieba3k>=0.35.1 in /home/mohammedessam/anaconda3/lib/python3.9/site-packages (from newspaper3k) (0.35.1)\n",
      "Requirement already satisfied: feedparser>=5.2.1 in /home/mohammedessam/anaconda3/lib/python3.9/site-packages (from newspaper3k) (6.0.10)\n",
      "Requirement already satisfied: Pillow>=3.3.0 in /home/mohammedessam/anaconda3/lib/python3.9/site-packages (from newspaper3k) (8.4.0)\n",
      "Requirement already satisfied: tldextract>=2.0.1 in /home/mohammedessam/anaconda3/lib/python3.9/site-packages (from newspaper3k) (3.4.0)\n",
      "Requirement already satisfied: soupsieve>1.2 in /home/mohammedessam/anaconda3/lib/python3.9/site-packages (from beautifulsoup4>=4.4.1->newspaper3k) (2.2.1)\n",
      "Requirement already satisfied: six in /home/mohammedessam/anaconda3/lib/python3.9/site-packages (from feedfinder2>=0.0.4->newspaper3k) (1.16.0)\n",
      "Requirement already satisfied: sgmllib3k in /home/mohammedessam/anaconda3/lib/python3.9/site-packages (from feedparser>=5.2.1->newspaper3k) (1.0.0)\n",
      "Requirement already satisfied: click in /home/mohammedessam/anaconda3/lib/python3.9/site-packages (from nltk>=3.2.1->newspaper3k) (8.0.3)\n",
      "Requirement already satisfied: joblib in /home/mohammedessam/anaconda3/lib/python3.9/site-packages (from nltk>=3.2.1->newspaper3k) (1.1.0)\n",
      "Requirement already satisfied: regex>=2021.8.3 in /home/mohammedessam/anaconda3/lib/python3.9/site-packages (from nltk>=3.2.1->newspaper3k) (2021.8.3)\n",
      "Requirement already satisfied: tqdm in /home/mohammedessam/anaconda3/lib/python3.9/site-packages (from nltk>=3.2.1->newspaper3k) (4.62.3)\n",
      "Requirement already satisfied: certifi>=2017.4.17 in /home/mohammedessam/anaconda3/lib/python3.9/site-packages (from requests>=2.10.0->newspaper3k) (2021.10.8)\n",
      "Requirement already satisfied: idna<4,>=2.5 in /home/mohammedessam/anaconda3/lib/python3.9/site-packages (from requests>=2.10.0->newspaper3k) (3.2)\n",
      "Requirement already satisfied: charset-normalizer~=2.0.0 in /home/mohammedessam/anaconda3/lib/python3.9/site-packages (from requests>=2.10.0->newspaper3k) (2.0.4)\n",
      "Requirement already satisfied: urllib3<1.27,>=1.21.1 in /home/mohammedessam/anaconda3/lib/python3.9/site-packages (from requests>=2.10.0->newspaper3k) (1.26.7)\n",
      "Requirement already satisfied: filelock>=3.0.8 in /home/mohammedessam/anaconda3/lib/python3.9/site-packages (from tldextract>=2.0.1->newspaper3k) (3.3.1)\n",
      "Requirement already satisfied: requests-file>=1.4 in /home/mohammedessam/anaconda3/lib/python3.9/site-packages (from tldextract>=2.0.1->newspaper3k) (1.5.1)\n",
      "Note: you may need to restart the kernel to use updated packages.\n"
     ]
    }
   ],
   "source": [
    "pip install newspaper3k"
   ]
  },
  {
   "cell_type": "code",
   "execution_count": 1,
   "id": "ac79345d",
   "metadata": {},
   "outputs": [],
   "source": [
    "#import libraries \n",
    "from newspaper import Article \n",
    "import random \n",
    "import nltk\n",
    "import string \n",
    "from sklearn.feature_extraction.text import CountVectorizer \n",
    "from sklearn.metrics.pairwise import cosine_similarity\n",
    "import numpy as np \n",
    "import warnings \n",
    "warnings.filterwarnings('ignore')"
   ]
  },
  {
   "cell_type": "code",
   "execution_count": 3,
   "id": "248f4c13",
   "metadata": {},
   "outputs": [
    {
     "data": {
      "text/plain": [
       "True"
      ]
     },
     "execution_count": 3,
     "metadata": {},
     "output_type": "execute_result"
    }
   ],
   "source": [
    "#download the punkt package \n",
    "nltk.download('punkt', quiet=True)"
   ]
  },
  {
   "cell_type": "code",
   "execution_count": 4,
   "id": "a0f37257",
   "metadata": {},
   "outputs": [],
   "source": [
    "article = Article('https://www.mayoclinic.org/diseases-conditions/chronic-kidney-disease/diagnosis-treatment/drc-20354527')\n",
    "article.download()\n",
    "article.parse()\n",
    "article.nlp()\n",
    "corpus = article.text"
   ]
  },
  {
   "cell_type": "code",
   "execution_count": 5,
   "id": "f778afe0",
   "metadata": {},
   "outputs": [
    {
     "name": "stdout",
     "output_type": "stream",
     "text": [
      "Living with diabetes is difficult, thinking about what you eat. But controlling the sugar levels are really important for helping kidney function and specifically slowing down any damage to the kidneys. Newer drugs that have come out in the last couple years can help with this, as well as working with your primary care physician or endocrinologist with your current therapies to get better sugar control.\n",
      "\n",
      "We really want to help your health and so losing weight can be a key component to reducing your risk of progressing with kidney disease. Reducing calorie intake, which is either smaller portions, less snacking in between meals, and then thinking about burning calories with increasing your exercise, are great steps forward in starting that journey towards weight loss.\n",
      "\n",
      "We look to get blood pressure less than 130 systolic, that's the top number. And less than 80 diastolic, that's the bottom number, on blood pressure readings. There are a number of different drugs that we can use to do this. And this will help both with your cardiovascular health, but slowing down any kidney disease progression over time as well.\n",
      "\n",
      "There are two different types of dialysis: hemodialysis, which is done through cleaning the blood through a machine, which you attend a dialysis center three times a week for about four hours each time. It can be done at home in certain circumstances. Or peritoneal dialysis, where fluid gets put into your tummy, takes out the toxins and is drained. And that can be done either during the day or overnight on a machine. The benefits and risks of these are individualized, as some people are able to do the treatment at home or need to go to a treatment center for this. It also depends on your location and how close the nearest dialysis centers are.\n",
      "\n",
      "The kidney transplant works in the same way as your own kidneys do, with the blood coming through the transplant, filtering it and the urine coming out. The kidney transplant is protected by the anti-rejection medication, so your body doesn't attack it. And we leave your own kidneys in because they eventually shrivel down and don't function anymore. You don't want more surgery than you need.\n",
      "\n",
      "For a kidney transplant at the moment, taking anti-rejection drugs is an everyday, lifelong occurrence. These can come with side effects. But current research is looking to try and minimize or come off anti-rejection drugs with specific research protocols at the moment.\n",
      "\n",
      "We really want to partner with you to get the best outcomes for you, so that chronic kidney disease doesn't affect you as much as it can. Controlling your blood pressure and therefore monitoring that at home, taking your medications regularly, and letting us know about side effects is a really important part in partnering and helping you to have a good quality of life living with chronic kidney disease.\n"
     ]
    }
   ],
   "source": [
    "#print the articles text \n",
    "print(corpus)"
   ]
  },
  {
   "cell_type": "code",
   "execution_count": 6,
   "id": "21ab85e8",
   "metadata": {},
   "outputs": [],
   "source": [
    "# Tokenization \n",
    "text = corpus \n",
    "sentence_list = nltk.sent_tokenize(text)"
   ]
  },
  {
   "cell_type": "code",
   "execution_count": 7,
   "id": "7fd91395",
   "metadata": {},
   "outputs": [
    {
     "name": "stdout",
     "output_type": "stream",
     "text": [
      "['Living with diabetes is difficult, thinking about what you eat.', 'But controlling the sugar levels are really important for helping kidney function and specifically slowing down any damage to the kidneys.', 'Newer drugs that have come out in the last couple years can help with this, as well as working with your primary care physician or endocrinologist with your current therapies to get better sugar control.', 'We really want to help your health and so losing weight can be a key component to reducing your risk of progressing with kidney disease.', 'Reducing calorie intake, which is either smaller portions, less snacking in between meals, and then thinking about burning calories with increasing your exercise, are great steps forward in starting that journey towards weight loss.', \"We look to get blood pressure less than 130 systolic, that's the top number.\", \"And less than 80 diastolic, that's the bottom number, on blood pressure readings.\", 'There are a number of different drugs that we can use to do this.', 'And this will help both with your cardiovascular health, but slowing down any kidney disease progression over time as well.', 'There are two different types of dialysis: hemodialysis, which is done through cleaning the blood through a machine, which you attend a dialysis center three times a week for about four hours each time.', 'It can be done at home in certain circumstances.', 'Or peritoneal dialysis, where fluid gets put into your tummy, takes out the toxins and is drained.', 'And that can be done either during the day or overnight on a machine.', 'The benefits and risks of these are individualized, as some people are able to do the treatment at home or need to go to a treatment center for this.', 'It also depends on your location and how close the nearest dialysis centers are.', 'The kidney transplant works in the same way as your own kidneys do, with the blood coming through the transplant, filtering it and the urine coming out.', \"The kidney transplant is protected by the anti-rejection medication, so your body doesn't attack it.\", \"And we leave your own kidneys in because they eventually shrivel down and don't function anymore.\", \"You don't want more surgery than you need.\", 'For a kidney transplant at the moment, taking anti-rejection drugs is an everyday, lifelong occurrence.', 'These can come with side effects.', 'But current research is looking to try and minimize or come off anti-rejection drugs with specific research protocols at the moment.', \"We really want to partner with you to get the best outcomes for you, so that chronic kidney disease doesn't affect you as much as it can.\", 'Controlling your blood pressure and therefore monitoring that at home, taking your medications regularly, and letting us know about side effects is a really important part in partnering and helping you to have a good quality of life living with chronic kidney disease.']\n"
     ]
    }
   ],
   "source": [
    "#print the list of sentences \n",
    "print(sentence_list)"
   ]
  },
  {
   "cell_type": "code",
   "execution_count": 8,
   "id": "d084764c",
   "metadata": {},
   "outputs": [],
   "source": [
    "# A function to return simple greeting response to the users greeting \n",
    "def greeting_respose(text):\n",
    "    text = text.lower()\n",
    "    \n",
    "    #Bots greeting response \n",
    "    bot_greeting = ['howdy' , 'hi', 'hey', 'hello', 'hola','salut']\n",
    "    \n",
    "    #user greeting\n",
    "    users_greeting = [\"hi\", \"hello\", \"hey\", \"helloo\", \"hellooo\", \"g morining\", \"gmorning\", \"good morning\", \"morning\", \"good day\", \"good afternoon\", \"good evening\", \"greetings\", \"greeting\", \"good to see you\", \"its good seeing you\", \"how are you\", \"how're you\", \"how are you doing\", \"how ya doin'\", \"how ya doin\", \"how is everything\", \"how is everything going\", \"how's everything going\", \"how is you\", \"how's you\", \"how are things\", \"how're things\", \"how is it going\", \"how's it going\", \"how's it goin'\", \"how's it goin\", \"how is life been treating you\", \"how's life been treating you\", \"how have you been\", \"how've you been\", \"what is up\", \"what's up\"]\n",
    "    for word in text.split():\n",
    "        for word in users_greeting:\n",
    "            return random.choice(bot_greeting)"
   ]
  },
  {
   "cell_type": "code",
   "execution_count": 9,
   "id": "f2297049",
   "metadata": {},
   "outputs": [],
   "source": [
    "def index_sort(list_var):\n",
    "    length = len(list_var)\n",
    "    list_index = list(range(0,length))\n",
    "    \n",
    "    x = list_var\n",
    "    for i in range(length):\n",
    "        for j in range(length):\n",
    "            if x[list_index[i]] > x[list_index[j]]:\n",
    "                temp = list_index[i]\n",
    "                list_index[i] = list_index[j]\n",
    "                list_index[j] = temp               \n",
    "                \n",
    "    return list_index"
   ]
  },
  {
   "cell_type": "code",
   "execution_count": 10,
   "id": "bf536998",
   "metadata": {},
   "outputs": [],
   "source": [
    "#create the bots response \n",
    "def bot_response(user_input):\n",
    "    user_input= user_input.lower()\n",
    "    sentence_list.append(user_input)\n",
    "    bot_response =''\n",
    "    cm = CountVectorizer().fit_transform(sentence_list)\n",
    "    similarity_scores = cosine_similarity(cm[-1],cm)\n",
    "    similarity_scores_list = similarity_scores.flatten()\n",
    "    index = index_sort(similarity_scores_list)\n",
    "    index = index [1:]\n",
    "    response_flag = 0\n",
    "    j = 0\n",
    "    for i in range(len(index)) :\n",
    "        if similarity_scores_list[index[i]] > 0.0 :\n",
    "            bot_response = bot_response +' '+sentence_list[index[i]]\n",
    "            response_flag = 1\n",
    "            j = j+1\n",
    "        if j > 2 :\n",
    "            break \n",
    "            \n",
    "    if response_flag == 0 :\n",
    "        bot_response = bot_response+'  '+\"sorry, I don't understand\""
   ]
  },
  {
   "cell_type": "code",
   "execution_count": null,
   "id": "14685893",
   "metadata": {},
   "outputs": [
    {
     "name": "stdout",
     "output_type": "stream",
     "text": [
      "CodeClause Bot : I am your business advisor for short.\n"
     ]
    }
   ],
   "source": [
    "#start the chat \n",
    "print('CodeClause Bot : I am smart chat bot  for short.')\n",
    "\n",
    "exit_list = ['exist', 'see you later','bye', 'quit', 'break']\n",
    "\n",
    "while True :\n",
    "    user_input = input()\n",
    "    if user_input.lower() in exit_list :\n",
    "        print('CodeClause Bot: Chat with u later !')\n",
    "        break\n",
    "    else:\n",
    "        if greeting_respose(user_input) != None :\n",
    "            print('CodeClause Bot '+greeting_respose(user_input))\n",
    "        else:\n",
    "            print('CodeClause Bot '+bot_respose(user_input))"
   ]
  },
  {
   "cell_type": "code",
   "execution_count": null,
   "id": "003c0a65",
   "metadata": {},
   "outputs": [],
   "source": []
  },
  {
   "cell_type": "code",
   "execution_count": null,
   "id": "255ee241",
   "metadata": {},
   "outputs": [],
   "source": []
  }
 ],
 "metadata": {
  "kernelspec": {
   "display_name": "Python 3 (ipykernel)",
   "language": "python",
   "name": "python3"
  },
  "language_info": {
   "codemirror_mode": {
    "name": "ipython",
    "version": 3
   },
   "file_extension": ".py",
   "mimetype": "text/x-python",
   "name": "python",
   "nbconvert_exporter": "python",
   "pygments_lexer": "ipython3",
   "version": "3.9.7"
  }
 },
 "nbformat": 4,
 "nbformat_minor": 5
}
